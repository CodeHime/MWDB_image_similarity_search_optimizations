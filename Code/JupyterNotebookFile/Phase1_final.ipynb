{
 "cells": [
  {
   "cell_type": "markdown",
   "metadata": {
    "id": "16zj3r_U0dFt"
   },
   "source": [
    "# MWDB Phase 1"
   ]
  },
  {
   "cell_type": "markdown",
   "metadata": {
    "id": "HM641H6z7h86"
   },
   "source": [
    "## Task 0: exploring the data\n",
    "In this section, we import the dataset and study its meta-data."
   ]
  },
  {
   "cell_type": "code",
   "execution_count": 252,
   "metadata": {
    "colab": {
     "base_uri": "https://localhost:8080/"
    },
    "id": "6-n2Cu1YcR48",
    "outputId": "a1d27e27-927e-46db-ff97-8948fcb9b206"
   },
   "outputs": [
    {
     "data": {
      "text/plain": [
       "dict_keys(['data', 'images', 'target', 'DESCR'])"
      ]
     },
     "execution_count": 252,
     "metadata": {},
     "output_type": "execute_result"
    }
   ],
   "source": [
    "# Import the dataset\n",
    "from sklearn.datasets import fetch_olivetti_faces\n",
    "import numpy as np\n",
    "import pandas as pd\n",
    "import os\n",
    "img_data = fetch_olivetti_faces(data_home=None, shuffle=False, random_state=0, download_if_missing=True)\n",
    "img_data.keys()"
   ]
  },
  {
   "cell_type": "markdown",
   "metadata": {
    "id": "Ej2ssbrC04YQ"
   },
   "source": [
    "##### Printing the meta-data\n",
    "From this we can see that:\n",
    "1. The data has 40 classes (Images of 40 people)\n",
    "2. 400 samples (40 people x 10 images each)\n",
    "3. 4096 dimensionaloty (64 x 64 image matrices)\n",
    "4. Features scaled between 0 and 1 (0 corresponds to 0 and 1 to 255 in greyscale)\n",
    "\n",
    "From the keys of this dataset, it is clear that data consists of:\n",
    "1. data - Array of lattened 64 x 64 images in a 1D array \\[Dimensions: 40 x 4096\\]\n",
    "2. images - Array of 64 x 64 images in a 2D array \\[Dimensions: 40 x 64 x 64\\]\n",
    "3. target - Array of person IDs\n",
    "4. DESCR - Description of dataset"
   ]
  },
  {
   "cell_type": "code",
   "execution_count": 253,
   "metadata": {
    "colab": {
     "base_uri": "https://localhost:8080/"
    },
    "id": "9ZbDzSmldeVE",
    "outputId": "384c7bac-718c-4138-b7bd-a1ded13b3fca"
   },
   "outputs": [
    {
     "name": "stdout",
     "output_type": "stream",
     "text": [
      ".. _olivetti_faces_dataset:\n",
      "\n",
      "The Olivetti faces dataset\n",
      "--------------------------\n",
      "\n",
      "`This dataset contains a set of face images`_ taken between April 1992 and \n",
      "April 1994 at AT&T Laboratories Cambridge. The\n",
      ":func:`sklearn.datasets.fetch_olivetti_faces` function is the data\n",
      "fetching / caching function that downloads the data\n",
      "archive from AT&T.\n",
      "\n",
      ".. _This dataset contains a set of face images: http://www.cl.cam.ac.uk/research/dtg/attarchive/facedatabase.html\n",
      "\n",
      "As described on the original website:\n",
      "\n",
      "    There are ten different images of each of 40 distinct subjects. For some\n",
      "    subjects, the images were taken at different times, varying the lighting,\n",
      "    facial expressions (open / closed eyes, smiling / not smiling) and facial\n",
      "    details (glasses / no glasses). All the images were taken against a dark\n",
      "    homogeneous background with the subjects in an upright, frontal position \n",
      "    (with tolerance for some side movement).\n",
      "\n",
      "**Data Set Characteristics:**\n",
      "\n",
      "    =================   =====================\n",
      "    Classes                                40\n",
      "    Samples total                         400\n",
      "    Dimensionality                       4096\n",
      "    Features            real, between 0 and 1\n",
      "    =================   =====================\n",
      "\n",
      "The image is quantized to 256 grey levels and stored as unsigned 8-bit \n",
      "integers; the loader will convert these to floating point values on the \n",
      "interval [0, 1], which are easier to work with for many algorithms.\n",
      "\n",
      "The \"target\" for this database is an integer from 0 to 39 indicating the\n",
      "identity of the person pictured; however, with only 10 examples per class, this\n",
      "relatively small dataset is more interesting from an unsupervised or\n",
      "semi-supervised perspective.\n",
      "\n",
      "The original dataset consisted of 92 x 112, while the version available here\n",
      "consists of 64x64 images.\n",
      "\n",
      "When using these images, please give credit to AT&T Laboratories Cambridge.\n",
      "\n"
     ]
    },
    {
     "data": {
      "text/plain": [
       "dict_keys(['data', 'images', 'target', 'DESCR'])"
      ]
     },
     "execution_count": 253,
     "metadata": {},
     "output_type": "execute_result"
    }
   ],
   "source": [
    "print(img_data[\"DESCR\"])\n",
    "img_data.keys()"
   ]
  },
  {
   "cell_type": "markdown",
   "metadata": {
    "id": "wrODXi7_7I4T"
   },
   "source": [
    "## Task 1: Implementation of models onto the given image"
   ]
  },
  {
   "cell_type": "code",
   "execution_count": 254,
   "metadata": {
    "id": "AEUP7t9Qgi_C"
   },
   "outputs": [],
   "source": [
    "images = img_data[\"images\"]\n",
    "input_img=images[0]"
   ]
  },
  {
   "cell_type": "code",
   "execution_count": 255,
   "metadata": {
    "colab": {
     "base_uri": "https://localhost:8080/",
     "height": 0
    },
    "id": "GxefuTMCduOz",
    "outputId": "2d48b5f9-44de-4a06-e39c-d664b9c22511"
   },
   "outputs": [
    {
     "data": {
      "image/png": "[encoded data removed]",
      "text/plain": [
       "<Figure size 432x288 with 1 Axes>"
      ]
     },
     "metadata": {
      "needs_background": "light"
     },
     "output_type": "display_data"
    }
   ],
   "source": [
    "import matplotlib.pyplot as plt\n",
    "# images lies in between 0 and 1 so setting vmin and vmax as 0 and 1\n",
    "plt.imshow(images[0], cmap='gray', vmin=0, vmax=1)\n",
    "plt.show()"
   ]
  },
  {
   "cell_type": "markdown",
   "metadata": {
    "id": "MtTIicbH7XQd"
   },
   "source": [
    "#### Color moments"
   ]
  },
  {
   "cell_type": "code",
   "execution_count": 256,
   "metadata": {
    "id": "8A3y530Ld5XN"
   },
   "outputs": [],
   "source": [
    "# Mean of an image defines the average colour among that local area\n",
    "def get_mean_img(input_img, output_dim):\n",
    "  out=np.empty(output_dim)\n",
    "  for i in range(output_dim[0]):\n",
    "    for j in range(output_dim[1]):\n",
    "      out[i][j]=(input_img[i*(input_img.shape[0]//output_dim[0]):(i+1)*(input_img.shape[0]//output_dim[0]), j*(input_img.shape[1]//output_dim[1]):(j+1)*(input_img.shape[1]//output_dim[1])].mean())\n",
    "  return out.reshape(output_dim)\n",
    "\n",
    "# Standard deviation of an image defines the variation of the light intensity amongst that local region\n",
    "def get_std_dev_img(input_img, output_dim):\n",
    "  out=np.empty(output_dim)\n",
    "  for i in range(output_dim[0]):\n",
    "    for j in range(output_dim[1]):\n",
    "      out[i][j]=(input_img[i*(input_img.shape[0]//output_dim[0]):(i+1)*(input_img.shape[0]//output_dim[0]), j*(input_img.shape[1]//output_dim[1]):(j+1)*(input_img.shape[1]//output_dim[1])].std())\n",
    "  return out.reshape(output_dim)\n",
    "\n",
    "# Calculating skewness based on Pearson Mode Skewness\n",
    "#  If the skewness is negative, the histogram is negatively skewed. \n",
    "# That means its left tail is longer or fatter than its right one. \n",
    "# Therefore, the frequency over the darker intensities (closer to zero) is wider spread (less concentrated, but not necessarily less frequent than the right tail!). The positive skewness is the opposite.\n",
    "# https://stats.stackexchange.com/questions/211377/skewness-and-kurtosis-in-an-image\n",
    "# Cite Peraon formula and numpy libraries\n",
    "def get_skew_img(input_img, output_dim, mean_img=np.array([]), std_img=np.array([])):\n",
    "    if mean_img.shape==np.array([]).shape:\n",
    "    mean_img=get_mean_img(input_img, output_dim)\n",
    "    if std_img.shape==np.array([]).shape:\n",
    "    std_img=get_std_dev_img(input_img, output_dim)\n",
    "\n",
    "    median_img=np.empty(output_dim)\n",
    "    for i in range(output_dim[0]):\n",
    "    for j in range(output_dim[1]):\n",
    "        median_img[i][j]=np.median(input_img[i*(input_img.shape[0]//output_dim[0]):(i+1)*(input_img.shape[0]//output_dim[0]), j*(input_img.shape[1]//output_dim[1]):(j+1)*(input_img.shape[1]//output_dim[1])])\n",
    "    return 3*(mean_img-median_img)/std_img\n",
    "  \n",
    "def get_cm8x8(input_img, output_dim):\n",
    "    cm8x8=[]\n",
    "    cm8x8.append(get_mean_img(input_img, output_dim))\n",
    "    cm8x8.append(get_std_dev_img(input_img, output_dim))\n",
    "    cm8x8.append(get_skew_img(input_img, output_dim, mean_img=cm8x8[0], std_img=cm8x8[1]))\n",
    "    cm8x8=np.array(cm8x8)\n",
    "    return cm8x8"
   ]
  },
  {
   "cell_type": "code",
   "execution_count": 257,
   "metadata": {
    "colab": {
     "base_uri": "https://localhost:8080/",
     "height": 0
    },
    "id": "opYIW9aDx92R",
    "outputId": "28af821e-668c-46f1-f20a-edbc662efdc1"
   },
   "outputs": [
    {
     "data": {
      "image/png": "[encoded data removed]",
      "text/plain": [
       "<Figure size 432x288 with 1 Axes>"
      ]
     },
     "metadata": {
      "needs_background": "light"
     },
     "output_type": "display_data"
    },
    {
     "data": {
      "image/png": "[encoded data removed]",
      "text/plain": [
       "<Figure size 432x288 with 1 Axes>"
      ]
     },
     "metadata": {
      "needs_background": "light"
     },
     "output_type": "display_data"
    },
    {
     "data": {
      "image/png": "[encoded data removed]",
      "text/plain": [
       "<Figure size 432x288 with 1 Axes>"
      ]
     },
     "metadata": {
      "needs_background": "light"
     },
     "output_type": "display_data"
    }
   ],
   "source": [
    "# Defining array for color moments\n",
    "output_dim=(8,8)\n",
    "\n",
    "cm8x8 = get_cm8x8(input_img, output_dim)\n",
    "# Picture of mean of image\n",
    "plt.imshow(cm8x8[0], cmap='gray', vmin=cm8x8[0].min(), vmax=cm8x8[0].max())\n",
    "plt.show()\n",
    "\n",
    "# For overall picture of std deviation\n",
    "# plt.imshow(cm8x8[1], cmap='gray', vmin=0, vmax=1)\n",
    "# For more sensitive zoomed in picture of std deviation\n",
    "plt.imshow(cm8x8[1], cmap='gray', vmin=cm8x8[1].min(), vmax=cm8x8[1].max())\n",
    "plt.show()\n",
    "\n",
    "\n",
    "# For overall picture of skewness\n",
    "# plt.imshow(cm8x8[2], cmap='gray', vmin=-1, vmax=1)\n",
    "# For more sensitive zoomed in picture of skewness\n",
    "plt.imshow(cm8x8[2], cmap='gray', vmin=cm8x8[2].min(), vmax=cm8x8[2].max())\n",
    "plt.show()"
   ]
  },
  {
   "cell_type": "markdown",
   "metadata": {
    "id": "stf5pVHg7MNK"
   },
   "source": [
    "#### Extended local binary pattern\n",
    "http://researchspace.csir.co.za/dspace/bitstream/handle/10204/6491/Mdakane_2012.pdf?isAllowed=y&sequence=1"
   ]
  },
  {
   "cell_type": "code",
   "execution_count": 258,
   "metadata": {
    "colab": {
     "base_uri": "https://localhost:8080/",
     "height": 0
    },
    "id": "qyxEL4BbBTH6",
    "outputId": "9bfdbed7-1c84-4877-d2a7-5bb30f65c9de"
   },
   "outputs": [
    {
     "data": {
      "image/png": "[encoded data removed]",
      "text/plain": [
       "<Figure size 432x288 with 1 Axes>"
      ]
     },
     "metadata": {
      "needs_background": "light"
     },
     "output_type": "display_data"
    }
   ],
   "source": [
    "# https://scikit-image.org/docs/dev/auto_examples/features_detection/plot_local_binary_pattern.html\n",
    "# ELBP can be used for border detection\n",
    "from skimage.feature import local_binary_pattern\n",
    "def get_elbp(input_img, neighbours=8, radius=1):\n",
    "    return local_binary_pattern(input_img, neighbours, radius, method='uniform')\n",
    "\n",
    "elbp = get_elbp(input_img, neighbours=8, radius=1)\n",
    "plt.imshow(elbp, cmap='gray', vmin=elbp.min(), vmax=elbp.max())\n",
    "plt.show()"
   ]
  },
  {
   "cell_type": "markdown",
   "metadata": {
    "id": "IBwNq1vxIKzG"
   },
   "source": [
    "#### Histograms of oriented gradients, HOG"
   ]
  },
  {
   "cell_type": "code",
   "execution_count": 259,
   "metadata": {
    "id": "f-QhnPfoINbT"
   },
   "outputs": [],
   "source": [
    "hog_dict={\n",
    "    \"orientation_bins\": 9,\n",
    "    \"cell_size\": 8,\n",
    "    \"block_size\": 2,\n",
    "    \"orientated_gradients\": False, # ? ASK explaination of this parameter\n",
    "    \"l2_thres\": 0.2,\n",
    "    \"norm_type\": 'L2-Hys'       # normalization corressponding to max 0.2 threshold\n",
    "}"
   ]
  },
  {
   "cell_type": "code",
   "execution_count": 260,
   "metadata": {
    "colab": {
     "base_uri": "https://localhost:8080/",
     "height": 0
    },
    "id": "aHNsbzA5JJXC",
    "outputId": "c466b487-3157-4f12-98e4-6ceb32795e6a"
   },
   "outputs": [
    {
     "data": {
      "text/plain": [
       "<matplotlib.image.AxesImage at 0x7f8374404290>"
      ]
     },
     "execution_count": 260,
     "metadata": {},
     "output_type": "execute_result"
    },
    {
     "data": {
      "image/png": "[encoded data removed]",
      "text/plain": [
       "<Figure size 432x288 with 1 Axes>"
      ]
     },
     "metadata": {
      "needs_background": "light"
     },
     "output_type": "display_data"
    }
   ],
   "source": [
    "from skimage.feature import hog\n",
    "# From each region, 9 numbers are extracted for angles:: TODO\n",
    "def get_hog(input_img, hog_dict):\n",
    "    fd, hog_image = hog(input_img, \n",
    "                      orientations=hog_dict[\"orientation_bins\"], \n",
    "                      pixels_per_cell=(hog_dict[\"cell_size\"], hog_dict[\"cell_size\"]), \n",
    "                      cells_per_block=(hog_dict[\"block_size\"], hog_dict[\"block_size\"]), \n",
    "                      block_norm = hog_dict[\"norm_type\"],\n",
    "                      visualize=True, \n",
    "                      # feature_vector=False,\n",
    "                      multichannel=False # image is grayscale, deprecated by channel_axis, can be replaced if version>0.19\n",
    "                      # channel_axis =None # image is grayscale\n",
    "                      )\n",
    "    return np.array(fd), hog_image\n",
    "plt.axis(\"off\")\n",
    "fd, hog_image = get_hog(input_img, hog_dict)\n",
    "plt.imshow(hog_image, cmap=\"gray\")"
   ]
  },
  {
   "cell_type": "code",
   "execution_count": 261,
   "metadata": {
    "colab": {
     "base_uri": "https://localhost:8080/"
    },
    "id": "EkDIkpyZeETk",
    "outputId": "0f8b6979-6771-4b5e-c3b7-003b5334f9de"
   },
   "outputs": [
    {
     "data": {
      "text/plain": [
       "14.0"
      ]
     },
     "execution_count": 261,
     "metadata": {},
     "output_type": "execute_result"
    }
   ],
   "source": [
    "# how fs is defined\n",
    "import math\n",
    "math.sqrt(fd.shape[0]/9)"
   ]
  },
  {
   "cell_type": "markdown",
   "metadata": {
    "id": "omLxxapt5KF_"
   },
   "source": [
    "## Task 2 : Implementation of extraction and storage of feature descriptors for all images in a folder."
   ]
  },
  {
   "cell_type": "code",
   "execution_count": 262,
   "metadata": {
    "colab": {
     "base_uri": "https://localhost:8080/"
    },
    "id": "Q1vRSfpq5QLc",
    "outputId": "06c013a8-f8b6-42ed-e8af-57e00813aca6"
   },
   "outputs": [
    {
     "name": "stdout",
     "output_type": "stream",
     "text": [
      "Drive already mounted at /content/drive; to attempt to forcibly remount, call drive.mount(\"/content/drive\", force_remount=True).\n"
     ]
    }
   ],
   "source": [
    "# Load file directory into google colab \n",
    "from google.colab import drive\n",
    "drive.mount('/content/drive')\n",
    "base0_dir = \"/content/drive/MyDrive/MWDB/\""
   ]
  },
  {
   "cell_type": "code",
   "execution_count": 263,
   "metadata": {
    "id": "YJvT0qgq72MO"
   },
   "outputs": [],
   "source": [
    "# Save all arrays from dataset as greyscale images\n",
    "# Using PIL as matplotlib takes > 5min to save and PIL < 30 seconds\n",
    "# Note: PIL is smart so if u ran and deleted these images before, make sure to empty your trash before running the same code again\n",
    "from PIL import Image\n",
    "import os\n",
    "\n",
    "def save_all_images(input_dir, img_data):   \n",
    "    if not os.path.isdir(input_dir):\n",
    "    os.makedirs(input_dir)\n",
    "\n",
    "    # Save all input images\n",
    "    for i in range(img_data[\"images\"].shape[0]):\n",
    "        # if not os.path.isdir(input_dir + f\"{img_data['target'][i]}/\"):\n",
    "        #   os.makedirs(input_dir + f\"{img_data['target'][i]}/\")\n",
    "\n",
    "        result = Image.fromarray((img_data[\"images\"][i]* 255).astype(np.uint8))\n",
    "        # result.save(input_dir + f\"{img_data['target'][i]}/{i%10}.png\") \n",
    "        result.save(input_dir + f\"{i}.png\") "
   ]
  },
  {
   "cell_type": "code",
   "execution_count": 264,
   "metadata": {
    "id": "x-HcbfbeUWVo"
   },
   "outputs": [],
   "source": [
    "# Defining parameters for feature extraction\n",
    "output_dim=(8,8)\n",
    "hog_dict={\n",
    "    \"orientation_bins\": 9,\n",
    "    \"cell_size\": 8,\n",
    "    \"block_size\": 2,\n",
    "    \"orientated_gradients\": False, # ? ASK explaination of this parameter\n",
    "    \"l2_thres\": 0.2,\n",
    "    \"norm_type\": 'L2-Hys'       # normalization corressponding to max 0.2 threshold\n",
    "}\n",
    "\n",
    "import pandas as pd\n",
    "from numpy import savetxt\n",
    "from numpy import loadtxt\n",
    "def get_feature_vectors(image, name, output_dim, sub_features_dir, hog_dict, feature_visualization=False):\n",
    "    cm8x8 = get_cm8x8(image, output_dim)\n",
    "    if feature_visualization:\n",
    "        out = Image.fromarray((cm8x8[0]).astype(np.uint8))\n",
    "        out.save(os.path.join(features_dir, sub_features_dir[0], f\"{name}.png\")) \n",
    "        out = Image.fromarray((cm8x8[1]).astype(np.uint8))\n",
    "        out.save(os.path.join(features_dir, sub_features_dir[1], f\"{name}.png\")) \n",
    "        out = Image.fromarray((cm8x8[2]).astype(np.uint8))\n",
    "        out.save(os.path.join(features_dir, sub_features_dir[2], f\"{name}.png\"))\n",
    "\n",
    "    elbp_out = get_elbp(image, neighbours=8, radius=1)\n",
    "    if feature_visualization:\n",
    "        out = Image.fromarray((elbp_out).astype(np.uint8))\n",
    "        out.save(os.path.join(features_dir, sub_features_dir[3], f\"{name}.png\")) \n",
    "\n",
    "    hog_out, img = get_hog(image, hog_dict)\n",
    "    if feature_visualization:\n",
    "        out = Image.fromarray((img).astype(np.uint8))\n",
    "        out.save(os.path.join(features_dir, sub_features_dir[4], f\"{name}.png\")) \n",
    "  \n",
    "    return cm8x8, elbp_out, hog_out\n",
    "\n",
    "# Save all features as images(for visualization) and features (color moments, hog and elbp)\n",
    "def save_all_img_features(images, output_dim, features_dir, sub_features_dir, hog_dict, feature_visualization = False, img_ids=None):\n",
    "    if img_ids!=None:\n",
    "        pd.DataFrame(enumerate(img_ids),columns=[\"image_id\", \"image_idx\"]).to_csv(os.path.join(features_dir, \"image_ids.csv\"),index=False)\n",
    "    else:\n",
    "        pd.DataFrame(enumerate(range(images.shape[0])),columns=[\"image_id\", \"image_idx\"]).to_csv(os.path.join(features_dir, \"image_ids.csv\"),index=False)\n",
    "\n",
    "    img_lst = []\n",
    "    cm8x8_lst = [] \n",
    "    elbp_lst = [] \n",
    "    hog_lst = [] \n",
    "\n",
    "    for i in range(images.shape[0]):  \n",
    "        img_lst.append(images[i].flatten())\n",
    "        cm8x8, elbp_out, hog_out = get_feature_vectors(images[i], i, output_dim, sub_features_dir, hog_dict, feature_visualization=False)\n",
    "        cm8x8 = (cm8x8-np.min(cm8x8))/ (np.max(cm8x8)-np.min(cm8x8))\n",
    "        elbp_out = (elbp_out-np.min(elbp_out))/ (np.max(elbp_out)-np.min(elbp_out))\n",
    "        hog_out = (hog_out-np.min(hog_out))/ (np.max(hog_out)-np.min(hog_out))\n",
    "\n",
    "        cm8x8_lst.append(cm8x8.flatten())\n",
    "        elbp_lst.append(elbp_out.flatten())\n",
    "        hog_lst.append(hog_out)\n",
    "    pd.DataFrame(img_lst).to_csv(os.path.join(features_dir, \"images.csv\"),index=False)\n",
    "    pd.DataFrame(cm8x8_lst).to_csv(os.path.join(features_dir, \"cm8x8.csv\"),index=False)\n",
    "    # elbp_lst = (elbp_lst-np.min(elbp_lst))/ (np.max(elbp_lst)-np.min(elbp_lst))\n",
    "    pd.DataFrame(elbp_lst).to_csv(os.path.join(features_dir, \"elbp.csv\"),index=False)\n",
    "    # hog_lst = (hog_lst-np.min(hog_lst))/ (np.max(hog_lst)-np.min(hog_lst))\n",
    "    pd.DataFrame(hog_lst).to_csv(os.path.join(features_dir, \"hog.csv\"),index=False)\n"
   ]
  },
  {
   "cell_type": "code",
   "execution_count": 265,
   "metadata": {
    "colab": {
     "base_uri": "https://localhost:8080/"
    },
    "id": "xkk0hpNMsgZ5",
    "outputId": "6dfa3760-ce9d-4b12-e881-766913049a26"
   },
   "outputs": [
    {
     "name": "stdout",
     "output_type": "stream",
     "text": [
      "Enter path of images directory:/content/drive/MyDrive/MWDB/set1/\n"
     ]
    }
   ],
   "source": [
    "# read all saved images\n",
    "import glob\n",
    "input_dir = input(\"Enter path of images directory:\")\n",
    "\n",
    "base_dir = base0_dir if input_dir==\"\" else input_dir.rstrip(\"/\").rsplit(\"/\",1)[0]\n",
    "features_dir=os.path.join(base_dir, input_dir.rstrip(\"/\").rsplit(\"/\",1)[1] + \"_image_features/\") if input_dir!=\"\" else os.path.join(base_dir, \"image_features/\")\n",
    "sub_features_dir = [\"mean\",\"std\",\"skew\",\"elbp\",\"hog\"]\n",
    "# Create folders for images if they do not exist\n",
    "if not os.path.isdir(features_dir):\n",
    "    os.makedirs(features_dir)\n",
    "for dir in sub_features_dir:\n",
    "    if not os.path.isdir(os.path.join(features_dir, dir)):\n",
    "        os.makedirs(os.path.join(features_dir, dir))\n",
    "\n",
    "image_dir=base_dir + \"input_images/\"\n",
    "# save_all_images(input_dir, img_data)\n",
    "\n",
    "features_dir=os.path.join(base_dir, input_dir.rstrip(\"/\").rsplit(\"/\",1)[1] + \"_image_features/\") if input_dir!=\"\" else os.path.join(base_dir, \"image_features/\")\n",
    "input_dir = image_dir if input_dir==\"\" else input_dir\n",
    "\n",
    "images = []\n",
    "img_all_names = []\n",
    "for f in glob.iglob(input_dir + \"*\"):\n",
    "    img_all_names.append(f)\n",
    "    images.append(np.asarray(Image.open(f)))\n",
    "\n",
    "images = np.array(images)\n",
    "save_all_img_features(images, output_dim, features_dir, sub_features_dir, hog_dict, feature_visualization = False, img_ids=img_all_names)"
   ]
  },
  {
   "cell_type": "markdown",
   "metadata": {
    "id": "DGgKldKubcCM"
   },
   "source": [
    "## Task 3 : Implementation of top-k similarity search"
   ]
  },
  {
   "cell_type": "code",
   "execution_count": 295,
   "metadata": {
    "colab": {
     "base_uri": "https://localhost:8080/"
    },
    "id": "TXnrGnpDfwxs",
    "outputId": "075632b2-b4c7-43f9-f7cc-4a81118a5d5f"
   },
   "outputs": [
    {
     "name": "stdout",
     "output_type": "stream",
     "text": [
      "Requirement already satisfied: faiss-cpu in /usr/local/lib/python3.7/dist-packages (1.7.1.post2)\n",
      "Enter path of images directory:/content/drive/MyDrive/MWDB/set3/\n",
      "Enter value of k:4\n",
      "Enter input image path:/content/drive/MyDrive/MWDB/set3/image-0.png\n",
      "Enter feature to compare:elbp\n"
     ]
    }
   ],
   "source": [
    "from faiss.swigfaiss import index_factory\n",
    "from scipy.spatial import distance\n",
    "# Top K image search using original images\n",
    "# !pip uninstall faiss\n",
    "!pip install faiss-cpu --no-cache\n",
    "# Here I am using a library named faiss for the similarity search\n",
    "# Eucleadean and cosine:: TODO :: why this and not other distances\n",
    "import faiss                   # make faiss available\n",
    "import random\n",
    "from scipy.stats import wasserstein_distance\n",
    "\n",
    "def euclidean(xb, k, xq):\n",
    "    dimension = xb.shape[1]    # dimensions of each vector                         \n",
    "\n",
    "    index = faiss.IndexFlatL2(dimension)   # build the index, d=size of vectors \n",
    "    # here we assume xb contains a n-by-d numpy matrix of type float32\n",
    "    index.add(xb)                  # add vectors to the index\n",
    "    # print(f\"Total comparisions: {index.ntotal}\")\n",
    "    return index.search(xq, k)\n",
    "\n",
    "def cosine(xb, k, xq):\n",
    "    em = np.array([distance.cosine(i,xq) for i in xb])\n",
    "    idx = np.argpartition(em, k)[:k]\n",
    "    return em[idx], idx\n",
    "\n",
    "def manhattan(xb, k, xq):\n",
    "    man = np.sum(np.absolute(xb-xq), axis=1)\n",
    "    idx = np.argpartition(man, k)[:k]\n",
    "    return man[idx], idx\n",
    "\n",
    "def earth_movers(xb, k, xq):\n",
    "  # em = np.array([wasserstein_distance(i,xq[0]) for i in xb])\n",
    "    em = np.array([wasserstein_distance(np.histogram(i)[1],np.histogram(xq)[1]) for i in xb])\n",
    "    idx = np.argpartition(em, k)[:k]\n",
    "    return em[idx], idx\n",
    "\n",
    "def top_k_match(xb, k, xq, method=\"euclidean\"):\n",
    "    if method==\"euclidean\":\n",
    "        return euclidean(xb, k, xq)\n",
    "    elif method==\"cosine\":\n",
    "        return cosine(xb, k, xq)\n",
    "    elif method==\"manhattan\":\n",
    "        return manhattan(xb, k, xq)\n",
    "    elif method==\"earth_movers\":\n",
    "        return earth_movers(xb, k, xq)\n",
    "\n",
    "def get_image_file(features_dir, image_ids):\n",
    "    df = pd.read_csv(os.path.join(features_dir, \"image_ids.csv\"))#.iloc[image_ids]\n",
    "    return df[\"image_idx\"].to_list()\n",
    "  \n",
    "# FROM STEP 2\n",
    "input_dir = input(\"Enter path of images directory:\")\n",
    "input_k = input(\"Enter value of k:\")\n",
    "input_img = input(\"Enter input image path:\")\n",
    "selected_feature = input(\"Enter feature to compare:\")\n",
    "\n",
    "image_dir=base_dir + \"input_images/\"\n",
    "base_dir = base0_dir if input_dir==\"\" else input_dir.rstrip(\"/\").rsplit(\"/\",1)[0]\n",
    "input_dir = image_dir if input_dir==\"\" else input_dir\n",
    "feature = \"all\" if selected_feature==\"\" else selected_feature\n",
    "\n",
    "features_dir=os.path.join(base_dir, input_dir.rstrip(\"/\").rsplit(\"/\",1)[1] + \"_image_features/\") if input_dir==\"\" else os.path.join(base_dir, \"image_features/\")\n",
    "sub_features_dir = [\"mean\",\"std\",\"skew\",\"elbp\",\"hog\"]\n",
    "# Create folders for images if they do not exist\n",
    "if not os.path.isdir(features_dir):\n",
    "  os.makedirs(features_dir)\n",
    "for dir in sub_features_dir:\n",
    "      if not os.path.isdir(os.path.join(features_dir, dir)):\n",
    "        os.makedirs(os.path.join(features_dir, dir))\n",
    "\n",
    "images = []\n",
    "img_all_names = []\n",
    "for f in glob.iglob(input_dir + \"*\"):\n",
    "    img_all_names.append(f)\n",
    "    images.append(np.asarray(Image.open(f)))\n",
    "\n",
    "k = 10 if input_k==\"\" else min(len(images), int(input_k))\n",
    "images = np.array(images)\n",
    "save_all_img_features(images, output_dim, features_dir, sub_features_dir, hog_dict, feature_visualization = False, img_ids=img_all_names)\n",
    "\n",
    "in_image = np.asarray(Image.open(f))\n",
    "in_image_cm, in_image_elbp,in_image_hog= get_feature_vectors(in_image, input_img, output_dim, sub_features_dir, hog_dict)\n",
    "in_image_cm=in_image_cm.flatten()\n",
    "in_image_cm = (in_image_cm-np.min(in_image_cm))/ (np.max(in_image_cm)-np.min(in_image_cm))\n",
    "in_image_elbp=in_image_elbp.flatten()\n",
    "in_image_elbp = (in_image_elbp-np.min(in_image_elbp))/ (np.max(in_image_elbp)-np.min(in_image_elbp))\n",
    "in_image_hog=in_image_hog.flatten()\n",
    "in_image_hog = (in_image_hog-np.min(in_image_hog))/ (np.max(in_image_hog)-np.min(in_image_hog))\n",
    "\n",
    "# STEP 3 continued\n",
    "# read all image features and store in a dictionary\n",
    "feature_dict = {\n",
    "    \"img\": np.array(pd.read_csv(os.path.join(features_dir, \"images.csv\")), order='C').astype(np.float32),\n",
    "    \"mean\": np.array(pd.read_csv(os.path.join(features_dir, \"cm8x8.csv\")).iloc[: , :64], order='C').astype(np.float32),\n",
    "    \"std\": np.array(pd.read_csv(os.path.join(features_dir, \"cm8x8.csv\")).iloc[: , 64:128], order='C').astype(np.float32),\n",
    "    \"skew\": np.array(pd.read_csv(os.path.join(features_dir, \"cm8x8.csv\")).iloc[: , 128:], order='C').astype(np.float32),    \n",
    "    \"elbp\": np.array(pd.read_csv(os.path.join(features_dir, \"elbp.csv\")), order='C').astype(np.float32),\n",
    "    \"hog\": np.array(pd.read_csv(os.path.join(features_dir, \"hog.csv\")), order='C').astype(np.float32)\n",
    "}\n",
    "feature_dict[\"cm8x8\"]= np.concatenate((feature_dict[\"mean\"], feature_dict[\"std\"], feature_dict[\"skew\"]), axis=1)\n",
    "feature_dict[\"all\"]= np.concatenate((feature_dict[\"cm8x8\"], feature_dict[\"elbp\"], feature_dict[\"hog\"]), axis=1).astype(np.float32)\n",
    "\n",
    "in_feature_dict = {\n",
    "    \"img\": in_image.astype(np.float32),\n",
    "    \"mean\": in_image_cm[:64].astype(np.float32),\n",
    "    \"std\": in_image_cm[64:128].astype(np.float32),\n",
    "    \"skew\": in_image_cm[128:].astype(np.float32),    \n",
    "    \"elbp\": in_image_elbp,\n",
    "    \"hog\": in_image_hog,\n",
    "    \"cm8x8\":in_image_cm\n",
    "}\n",
    "in_feature_dict[\"all\"]= np.concatenate((in_feature_dict[\"cm8x8\"], in_feature_dict[\"elbp\"], in_feature_dict[\"hog\"])).astype(np.float32)\n",
    "\n",
    "distances = [\"euclidean\", \"cosine\", \"manhattan\",\"earth_movers\"]\n",
    "distance_dict = {\n",
    "    \"img\": distances[2],\n",
    "    \"mean\": distances[2],\n",
    "    \"std\": distances[2],\n",
    "    \"skew\": distances[2],\n",
    "    \"elbp\": distances[2],\n",
    "    \"hog\": distances[1],\n",
    "    \"cm8x8\":distances[2],\n",
    "    \"all\":distances[2]\n",
    "}"
   ]
  },
  {
   "cell_type": "code",
   "execution_count": 296,
   "metadata": {
    "colab": {
     "base_uri": "https://localhost:8080/",
     "height": 1000
    },
    "id": "EoYW7GnqozoS",
    "outputId": "1dbe2aaf-376a-401e-a6b3-e304bb9e59a8"
   },
   "outputs": [
    {
     "name": "stdout",
     "output_type": "stream",
     "text": [
      "/content/drive/MyDrive/MWDB/set3_elbp_image-0/image-0.png 2.3854554972502218e-05\n"
     ]
    },
    {
     "data": {
      "image/png": "[encoded data removed]",
      "text/plain": [
       "<Figure size 432x288 with 1 Axes>"
      ]
     },
     "metadata": {
      "needs_background": "light"
     },
     "output_type": "display_data"
    },
    {
     "name": "stdout",
     "output_type": "stream",
     "text": [
      "/content/drive/MyDrive/MWDB/set3_elbp_image-0/image-110.png 1403.3490205631172\n"
     ]
    },
    {
     "data": {
      "image/png": "[encoded data removed]",
      "text/plain": [
       "<Figure size 432x288 with 1 Axes>"
      ]
     },
     "metadata": {
      "needs_background": "light"
     },
     "output_type": "display_data"
    },
    {
     "name": "stdout",
     "output_type": "stream",
     "text": [
      "/content/drive/MyDrive/MWDB/set3_elbp_image-0/image-50.png 1434.6431389778431\n"
     ]
    },
    {
     "data": {
      "image/png": "[encoded data removed]",
      "text/plain": [
       "<Figure size 432x288 with 1 Axes>"
      ]
     },
     "metadata": {
      "needs_background": "light"
     },
     "output_type": "display_data"
    },
    {
     "name": "stdout",
     "output_type": "stream",
     "text": [
      "/content/drive/MyDrive/MWDB/set3_elbp_image-0/image-90.png 1442.5529427771385\n"
     ]
    },
    {
     "data": {
      "image/png": "[encoded data removed]",
      "text/plain": [
       "<Figure size 432x288 with 1 Axes>"
      ]
     },
     "metadata": {
      "needs_background": "light"
     },
     "output_type": "display_data"
    }
   ],
   "source": [
    "import matplotlib.pyplot as plt\n",
    "\n",
    "xb = feature_dict[feature]\n",
    "n = xb.shape[0]    # number of vectors    \n",
    "\n",
    "xq = in_feature_dict[feature]\n",
    "D, I = top_k_match(xb, k, xq, method=distance_dict[feature])   # actual search\n",
    "\n",
    "# destination_dir = os.path.join(base_dir, input_dir.rstrip(\"/\").rsplit(\"/\",1)[1] + \"_\" + input_img.rstrip(\".png\").rstrip(\"/\").rsplit(\"/\",1)[1]  + \"_\" + feature +\"_results_task3/\")\n",
    "destination_dir = os.path.join(base_dir, \n",
    "                               input_dir.rstrip(\"/\").rsplit(\"/\",1)[1] + \"_\" + feature +\\\n",
    "                               \"_\" + input_img.rstrip(\".png\").rstrip(\"/\").rsplit(\"/\",1)[1] if input_img!=\"\" else input_img +\\\n",
    "                               \"_\" + feature +\"_results_task3/\")\n",
    "if not os.path.isdir(destination_dir):\n",
    "    os.makedirs(destination_dir)\n",
    "\n",
    "image_files = get_image_file(features_dir, I)\n",
    "for i in range(len(I)):\n",
    "    result = Image.fromarray((images[I[i]]).astype(np.uint8))\n",
    "    result.save(os.path.join(destination_dir, image_files[I[i]].split(\"/\")[-1]))\n",
    "    print(os.path.join(destination_dir, image_files[I[i]].split(\"/\")[-1]), D[i])\n",
    "    conclusion_metric.append([os.path.join(destination_dir, image_files[I[i]].split(\"/\")[-1]), D[i]])\n",
    "    plt.imshow(images[I[i]], cmap='gray')\n",
    "    plt.show()"
   ]
  },
  {
   "cell_type": "code",
   "execution_count": 268,
   "metadata": {
    "colab": {
     "base_uri": "https://localhost:8080/",
     "height": 107
    },
    "id": "GrPjyMHxGwCf",
    "outputId": "b5d3e969-4a7f-4399-fecc-b5d3bc73a48d"
   },
   "outputs": [
    {
     "data": {
      "application/vnd.google.colaboratory.intrinsic+json": {
       "type": "string"
      },
      "text/plain": [
       "\"img\\n{'euclidean': 0.5399122807017543, 'cosine': 0.5043859649122807, 'manhattan': 0.5489035087719298, 'earth_movers': 0.24013157894736842}\\nmean\\n{'euclidean': 0.48508771929824557, 'cosine': 0.49583333333333324, 'manhattan': 0.4787280701754386, 'earth_movers': 0.1609649122807018}\\nstd\\n{'euclidean': 0.46030701754385966, 'cosine': 0.45416666666666666, 'manhattan': 0.4923245614035088, 'earth_movers': 0.1631578947368421}\\nskew\\n{'euclidean': 0.3528508771929824, 'cosine': 0.36381578947368415, 'manhattan': 0.387280701754386, 'earth_movers': 0.13442982456140354}\\nelbp\\n{'euclidean': 0.4820175438596491, 'cosine': 0.48311403508771933, 'manhattan': 0.5078947368421053, 'earth_movers': 0.021929824561403508}\\nhog\\n{'euclidean': 0.5436403508771931, 'cosine': 0.5703947368421053, 'manhattan': 0.5517543859649122, 'earth_movers': 0.021929824561403508}\\ncm8x8\\n{'euclidean': 0.5109649122807017, 'cosine': 0.5203947368421052, 'manhattan': 0.5223684210526316, 'earth_movers': 0.021929824561403508}\\nall\\n{'euclidean': 0.5342105263157895, 'cosine': 0.5535087719298246, 'manhattan': 0.5655701754385964, 'earth_movers': 0.021929824561403508}\\n\\n\""
      ]
     },
     "execution_count": 268,
     "metadata": {},
     "output_type": "execute_result"
    }
   ],
   "source": [
    "# UNCOMMENT to get accuracy of current dataset\n",
    "\"\"\"\n",
    "def get_accuracy_distances(xb,k,xq,distances):\n",
    "  accuracy_dict= {d: [] for d in distances}\n",
    "  for distance in distances:\n",
    "    for i in range(len(xb)):\n",
    "      # real_id = random.choice(range(n))\n",
    "      real_id = i\n",
    "      xq = np.array([xb[real_id]])\n",
    "\n",
    "      D, I = top_k_match(xb, k, xq, method=distance)   # actual search\n",
    "      accuracy_dict[distance].append(np.count_nonzero((I//10)==(real_id//10))/k)\n",
    "\n",
    "    accuracy_dict[distance] = np.mean(accuracy_dict[distance])\n",
    "  return accuracy_dict  \n",
    "\n",
    "for feature in list(feature_dict.keys()): \n",
    "  print(feature)\n",
    "  xb = feature_dict[feature]\n",
    "  n = xb.shape[0]    # number of vectors    \n",
    "\n",
    "  real_id = random.choice(range(n))\n",
    "  # real_id = i\n",
    "  xq = np.array([xb[real_id]])\n",
    "\n",
    "  distances = [\"euclidean\", \"cosine\", \"manhattan\",\"earth_movers\"]\n",
    "  print(get_accuracy_distances(xb,k,xq,distances))\n",
    "\"\"\"\n",
    "\n",
    "# DO NOT UNCOMMENT: FOR INFORMATION ONLY\n",
    "\"\"\"img\n",
    "{'euclidean': 0.5399122807017543, 'cosine': 0.5043859649122807, 'manhattan': 0.5489035087719298, 'earth_movers': 0.24013157894736842}\n",
    "mean\n",
    "{'euclidean': 0.48508771929824557, 'cosine': 0.49583333333333324, 'manhattan': 0.4787280701754386, 'earth_movers': 0.1609649122807018}\n",
    "std\n",
    "{'euclidean': 0.46030701754385966, 'cosine': 0.45416666666666666, 'manhattan': 0.4923245614035088, 'earth_movers': 0.1631578947368421}\n",
    "skew\n",
    "{'euclidean': 0.3528508771929824, 'cosine': 0.36381578947368415, 'manhattan': 0.387280701754386, 'earth_movers': 0.13442982456140354}\n",
    "elbp\n",
    "{'euclidean': 0.4820175438596491, 'cosine': 0.48311403508771933, 'manhattan': 0.5078947368421053, 'earth_movers': 0.021929824561403508}\n",
    "hog\n",
    "{'euclidean': 0.5436403508771931, 'cosine': 0.5703947368421053, 'manhattan': 0.5517543859649122, 'earth_movers': 0.021929824561403508}\n",
    "cm8x8\n",
    "{'euclidean': 0.5109649122807017, 'cosine': 0.5203947368421052, 'manhattan': 0.5223684210526316, 'earth_movers': 0.021929824561403508}\n",
    "all\n",
    "{'euclidean': 0.5342105263157895, 'cosine': 0.5535087719298246, 'manhattan': 0.5655701754385964, 'earth_movers': 0.021929824561403508}\n",
    "\n",
    "\"\"\""
   ]
  },
  {
   "cell_type": "markdown",
   "metadata": {
    "id": "Q1w8xFIFnFwk"
   },
   "source": [
    "## Task 4 : Implementation of top-k similarity search on all features"
   ]
  },
  {
   "cell_type": "code",
   "execution_count": 297,
   "metadata": {
    "colab": {
     "base_uri": "https://localhost:8080/",
     "height": 1000
    },
    "id": "uri6Lnkzn4d8",
    "outputId": "ee07a825-9997-4283-ff72-ab8567dc2574"
   },
   "outputs": [
    {
     "name": "stdout",
     "output_type": "stream",
     "text": [
      "/content/drive/MyDrive/MWDB/set3_image-0/image-0.png 0.0\n"
     ]
    },
    {
     "data": {
      "image/png": "[encoded data removed]",
      "text/plain": [
       "<Figure size 432x288 with 1 Axes>"
      ]
     },
     "metadata": {
      "needs_background": "light"
     },
     "output_type": "display_data"
    },
    {
     "name": "stdout",
     "output_type": "stream",
     "text": [
      "/content/drive/MyDrive/MWDB/set3_image-0/image-110.png 1724.2065\n"
     ]
    },
    {
     "data": {
      "image/png": "[encoded data removed]",
      "text/plain": [
       "<Figure size 432x288 with 1 Axes>"
      ]
     },
     "metadata": {
      "needs_background": "light"
     },
     "output_type": "display_data"
    },
    {
     "name": "stdout",
     "output_type": "stream",
     "text": [
      "/content/drive/MyDrive/MWDB/set3_image-0/image-50.png 1790.9136\n"
     ]
    },
    {
     "data": {
      "image/png": "[encoded data removed]",
      "text/plain": [
       "<Figure size 432x288 with 1 Axes>"
      ]
     },
     "metadata": {
      "needs_background": "light"
     },
     "output_type": "display_data"
    },
    {
     "name": "stdout",
     "output_type": "stream",
     "text": [
      "/content/drive/MyDrive/MWDB/set3_image-0/image-90.png 1823.2385\n"
     ]
    },
    {
     "data": {
      "image/png": "[encoded data removed]",
      "text/plain": [
       "<Figure size 432x288 with 1 Axes>"
      ]
     },
     "metadata": {
      "needs_background": "light"
     },
     "output_type": "display_data"
    }
   ],
   "source": [
    "import matplotlib.pyplot as plt\n",
    "\n",
    "feature=\"all\"\n",
    "xb = feature_dict[feature]\n",
    "n = xb.shape[0]    # number of vectors    \n",
    "\n",
    "xq = in_feature_dict[feature]\n",
    "D, I = top_k_match(xb, k, xq, method=distance_dict[feature])   # actual search\n",
    "\n",
    "# destination_dir = os.path.join(base_dir, input_dir.rstrip(\"/\").rsplit(\"/\",1)[1] + \"_\" + input_img.rstrip(\".png\").rstrip(\"/\").rsplit(\"/\",1)[1]  + \"_\" + feature +\"_results_task3/\")\n",
    "destination_dir = os.path.join(base_dir, \n",
    "                               input_dir.rstrip(\"/\").rsplit(\"/\",1)[1] +\\\n",
    "                               \"_\" + input_img.rstrip(\".png\").rstrip(\"/\").rsplit(\"/\",1)[1] if input_img!=\"\" else input_img +\\\n",
    "                               \"_\" + feature +\"_results_task3/\")\n",
    "if not os.path.isdir(destination_dir):\n",
    "  os.makedirs(destination_dir)\n",
    "\n",
    "image_files = get_image_file(features_dir, I)\n",
    "for i in range(len(I)):\n",
    "  result = Image.fromarray((images[I[i]]).astype(np.uint8))\n",
    "  result.save(os.path.join(destination_dir, image_files[I[i]].split(\"/\")[-1]))\n",
    "  print(os.path.join(destination_dir, image_files[I[i]].split(\"/\")[-1]), D[i])\n",
    "  conclusion_metric.append([os.path.join(destination_dir, image_files[I[i]].split(\"/\")[-1]), D[i]])\n",
    "  plt.imshow(images[I[i]], cmap='gray')\n",
    "  plt.show()"
   ]
  },
  {
   "cell_type": "code",
   "execution_count": 270,
   "metadata": {
    "colab": {
     "base_uri": "https://localhost:8080/"
    },
    "id": "egvEGvqsMWLH",
    "outputId": "e4af576a-f74b-4a4c-9466-fba5630d5e7c"
   },
   "outputs": [
    {
     "name": "stdout",
     "output_type": "stream",
     "text": [
      "(10, 192)\n",
      "(10, 4096)\n",
      "(10, 1764)\n",
      "Contribution of cm8x8\n",
      "0.007694438810650865\n",
      "Contribution of elbp\n",
      "0.9921697763113231\n",
      "Contribution of hog\n",
      "0.00013578487802589975\n"
     ]
    }
   ],
   "source": [
    "all_features = [\"cm8x8\",\"elbp\",\"hog\"]\n",
    "Dist=[]\n",
    "Inx=[]\n",
    "for i in range(len(all_features)):\n",
    "  xb = feature_dict[all_features[i]]\n",
    "  n = xb.shape[0]    # number of vectors    \n",
    "  print(xb.shape)\n",
    "  xq = in_feature_dict[all_features[i]]\n",
    "  Di, Ii = top_k_match(xb, n-1, xq, method=distance_dict[all_features[i]])   # actual search\n",
    "  Dist.append(Di)\n",
    "  # destination_dir = os.path.join(base_dir, input_dir.rstrip(\"/\").rsplit(\"/\",1)[1] + \"_\" + input_img.rstrip(\".png\").rstrip(\"/\").rsplit(\"/\",1)[1]  + \"_\" + all_features[i] +\"_results_task3/\")\n",
    "  destination_dir = os.path.join(base_dir, \n",
    "                                input_dir.rstrip(\"/\").rsplit(\"/\",1)[1] +\\\n",
    "                                \"_\" + input_img.rstrip(\".png\").rstrip(\"/\").rsplit(\"/\",1)[1] if input_img!=\"\" else input_img +\\\n",
    "                                \"_\" + all_features[i] +\"_results_task3/\")\n",
    "\n",
    "for i in range(len(all_features)):\n",
    "  print(\"Contribution of \" + all_features[i])\n",
    "  print(Dist[i].sum()/np.array(Dist).sum())"
   ]
  }
 ],
 "metadata": {
  "colab": {
   "collapsed_sections": [
    "Ej2ssbrC04YQ",
    "wrODXi7_7I4T"
   ],
   "name": "MWDB_Phase1_final.ipynb",
   "provenance": []
  },
  "kernelspec": {
   "display_name": "Python 3",
   "language": "python",
   "name": "python3"
  },
  "language_info": {
   "codemirror_mode": {
    "name": "ipython",
    "version": 3
   },
   "file_extension": ".py",
   "mimetype": "text/x-python",
   "name": "python",
   "nbconvert_exporter": "python",
   "pygments_lexer": "ipython3",
   "version": "3.8.8"
  }
 },
 "nbformat": 4,
 "nbformat_minor": 1
}
